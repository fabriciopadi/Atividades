{
  "cells": [
    {
      "cell_type": "markdown",
      "metadata": {
        "id": "kcNZdsEqga4Z"
      },
      "source": [
        "## Instalação Bibliotecas"
      ]
    },
    {
      "cell_type": "code",
      "execution_count": null,
      "metadata": {
        "colab": {
          "base_uri": "https://localhost:8080/"
        },
        "id": "9N0V9UQMgnvT",
        "outputId": "775dbce1-68f9-4a72-ccb0-f67ec771a25f"
      },
      "outputs": [
        {
          "name": "stdout",
          "output_type": "stream",
          "text": [
            "Collecting oracledb\n",
            "  Downloading oracledb-2.1.0-cp310-cp310-manylinux_2_17_x86_64.manylinux2014_x86_64.whl (11.0 MB)\n",
            "\u001b[2K     \u001b[90m━━━━━━━━━━━━━━━━━━━━━━━━━━━━━━━━━━━━━━━━\u001b[0m \u001b[32m11.0/11.0 MB\u001b[0m \u001b[31m47.0 MB/s\u001b[0m eta \u001b[36m0:00:00\u001b[0m\n",
            "\u001b[?25hRequirement already satisfied: cryptography>=3.2.1 in /usr/local/lib/python3.10/dist-packages (from oracledb) (42.0.5)\n",
            "Requirement already satisfied: cffi>=1.12 in /usr/local/lib/python3.10/dist-packages (from cryptography>=3.2.1->oracledb) (1.16.0)\n",
            "Requirement already satisfied: pycparser in /usr/local/lib/python3.10/dist-packages (from cffi>=1.12->cryptography>=3.2.1->oracledb) (2.21)\n",
            "Installing collected packages: oracledb\n",
            "Successfully installed oracledb-2.1.0\n"
          ]
        }
      ],
      "source": [
        "%pip install oracledb"
      ]
    },
    {
      "cell_type": "code",
      "execution_count": null,
      "metadata": {
        "colab": {
          "base_uri": "https://localhost:8080/"
        },
        "id": "b8c8u2X-gswx",
        "outputId": "86b365d8-8265-4266-d0b0-2c970880fbde"
      },
      "outputs": [
        {
          "name": "stdout",
          "output_type": "stream",
          "text": [
            "Collecting cx_Oracle\n",
            "  Downloading cx_Oracle-8.3.0-cp310-cp310-manylinux_2_5_x86_64.manylinux1_x86_64.manylinux_2_12_x86_64.manylinux2010_x86_64.whl (892 kB)\n",
            "\u001b[2K     \u001b[90m━━━━━━━━━━━━━━━━━━━━━━━━━━━━━━━━━━━━━━━━\u001b[0m \u001b[32m892.6/892.6 kB\u001b[0m \u001b[31m8.3 MB/s\u001b[0m eta \u001b[36m0:00:00\u001b[0m\n",
            "\u001b[?25hInstalling collected packages: cx_Oracle\n",
            "Successfully installed cx_Oracle-8.3.0\n"
          ]
        }
      ],
      "source": [
        "!pip install cx_Oracle"
      ]
    },
    {
      "cell_type": "markdown",
      "metadata": {
        "id": "cgFWH-KWgyLM"
      },
      "source": [
        "## Bibliotecas"
      ]
    },
    {
      "cell_type": "code",
      "execution_count": null,
      "metadata": {
        "id": "QnpPEovdg7Z0"
      },
      "outputs": [],
      "source": [
        "import oracledb\n",
        "import cx_Oracle\n",
        "import getpass\n",
        "import pandas as pd\n",
        "import random\n",
        "from datetime import datetime, timedelta"
      ]
    },
    {
      "cell_type": "markdown",
      "metadata": {
        "id": "xmHTI1IkhI80"
      },
      "source": [
        "- 1) Gere mais 50 produtos, 20 vendedores, 100 clientes, 1000 vendas."
      ]
    },
    {
      "cell_type": "code",
      "execution_count": null,
      "metadata": {
        "colab": {
          "base_uri": "https://localhost:8080/"
        },
        "id": "pecHOUVVg92V",
        "outputId": "90e009c8-2bea-457e-dd29-fa692aca855a"
      },
      "outputs": [
        {
          "name": "stdout",
          "output_type": "stream",
          "text": [
            "Enter password: ··········\n",
            "Successfully connected to Oracle Database\n"
          ]
        }
      ],
      "source": [
        "pw = getpass.getpass(\"Enter password: \")\n",
        "\n",
        "connection = oracledb.connect(\n",
        "    user=\"RM553808\",\n",
        "    password=pw,\n",
        "    dsn=\"oracle.fiap.com.br:1521/orcl\")\n",
        "\n",
        "print(\"Successfully connected to Oracle Database\")\n",
        "\n",
        "cursor = connection.cursor()"
      ]
    },
    {
      "cell_type": "code",
      "execution_count": null,
      "metadata": {
        "colab": {
          "base_uri": "https://localhost:8080/",
          "height": 488
        },
        "id": "VHlWTUNOhJQq",
        "outputId": "2c9a9802-c688-43cc-909a-bca088c7a3c6"
      },
      "outputs": [
        {
          "ename": "IntegrityError",
          "evalue": "ORA-00001: unique constraint (RM553808.SYS_C001627171) violated\nHelp: https://docs.oracle.com/error-help/db/ora-00001/",
          "output_type": "error",
          "traceback": [
            "\u001b[0;31m---------------------------------------------------------------------------\u001b[0m",
            "\u001b[0;31mIntegrityError\u001b[0m                            Traceback (most recent call last)",
            "\u001b[0;32m<ipython-input-38-4da792842fb5>\u001b[0m in \u001b[0;36m<cell line: 2>\u001b[0;34m()\u001b[0m\n\u001b[1;32m      1\u001b[0m \u001b[0;31m# inserindo 50 produtos\u001b[0m\u001b[0;34m\u001b[0m\u001b[0;34m\u001b[0m\u001b[0m\n\u001b[1;32m      2\u001b[0m \u001b[0;32mfor\u001b[0m \u001b[0mi\u001b[0m \u001b[0;32min\u001b[0m \u001b[0mrange\u001b[0m\u001b[0;34m(\u001b[0m\u001b[0;36m11\u001b[0m\u001b[0;34m,\u001b[0m \u001b[0;36m62\u001b[0m\u001b[0;34m,\u001b[0m \u001b[0;36m1\u001b[0m\u001b[0;34m)\u001b[0m\u001b[0;34m:\u001b[0m\u001b[0;34m\u001b[0m\u001b[0;34m\u001b[0m\u001b[0m\n\u001b[0;32m----> 3\u001b[0;31m     cursor.execute(f\"\"\"\n\u001b[0m\u001b[1;32m      4\u001b[0m         \u001b[0mINSERT\u001b[0m \u001b[0mINTO\u001b[0m \u001b[0mprodutos\u001b[0m \u001b[0;34m(\u001b[0m\u001b[0mproduto_id\u001b[0m\u001b[0;34m,\u001b[0m \u001b[0mnome\u001b[0m\u001b[0;34m,\u001b[0m \u001b[0mpreco\u001b[0m\u001b[0;34m)\u001b[0m\u001b[0;34m\u001b[0m\u001b[0;34m\u001b[0m\u001b[0m\n\u001b[1;32m      5\u001b[0m         \u001b[0mVALUES\u001b[0m \u001b[0;34m(\u001b[0m\u001b[0;34m{\u001b[0m\u001b[0mi\u001b[0m\u001b[0;34m}\u001b[0m\u001b[0;34m,\u001b[0m \u001b[0;34m'Produto Eletrônico {i}'\u001b[0m\u001b[0;34m,\u001b[0m \u001b[0;34m{\u001b[0m\u001b[0mrandom\u001b[0m\u001b[0;34m.\u001b[0m\u001b[0muniform\u001b[0m\u001b[0;34m(\u001b[0m\u001b[0;36m100.0\u001b[0m\u001b[0;34m,\u001b[0m \u001b[0;36m1000.0\u001b[0m\u001b[0;34m)\u001b[0m\u001b[0;34m:\u001b[0m\u001b[0;36m.2\u001b[0m\u001b[0mf\u001b[0m\u001b[0;34m}\u001b[0m\u001b[0;34m)\u001b[0m\u001b[0;34m\u001b[0m\u001b[0;34m\u001b[0m\u001b[0m\n",
            "\u001b[0;32m/usr/local/lib/python3.10/dist-packages/oracledb/cursor.py\u001b[0m in \u001b[0;36mexecute\u001b[0;34m(self, statement, parameters, **keyword_parameters)\u001b[0m\n\u001b[1;32m    699\u001b[0m         \u001b[0mself\u001b[0m\u001b[0;34m.\u001b[0m\u001b[0m_prepare_for_execute\u001b[0m\u001b[0;34m(\u001b[0m\u001b[0mstatement\u001b[0m\u001b[0;34m,\u001b[0m \u001b[0mparameters\u001b[0m\u001b[0;34m,\u001b[0m \u001b[0mkeyword_parameters\u001b[0m\u001b[0;34m)\u001b[0m\u001b[0;34m\u001b[0m\u001b[0;34m\u001b[0m\u001b[0m\n\u001b[1;32m    700\u001b[0m         \u001b[0mimpl\u001b[0m \u001b[0;34m=\u001b[0m \u001b[0mself\u001b[0m\u001b[0;34m.\u001b[0m\u001b[0m_impl\u001b[0m\u001b[0;34m\u001b[0m\u001b[0;34m\u001b[0m\u001b[0m\n\u001b[0;32m--> 701\u001b[0;31m         \u001b[0mimpl\u001b[0m\u001b[0;34m.\u001b[0m\u001b[0mexecute\u001b[0m\u001b[0;34m(\u001b[0m\u001b[0mself\u001b[0m\u001b[0;34m)\u001b[0m\u001b[0;34m\u001b[0m\u001b[0;34m\u001b[0m\u001b[0m\n\u001b[0m\u001b[1;32m    702\u001b[0m         \u001b[0;32mif\u001b[0m \u001b[0mimpl\u001b[0m\u001b[0;34m.\u001b[0m\u001b[0mfetch_vars\u001b[0m \u001b[0;32mis\u001b[0m \u001b[0;32mnot\u001b[0m \u001b[0;32mNone\u001b[0m\u001b[0;34m:\u001b[0m\u001b[0;34m\u001b[0m\u001b[0;34m\u001b[0m\u001b[0m\n\u001b[1;32m    703\u001b[0m             \u001b[0;32mreturn\u001b[0m \u001b[0mself\u001b[0m\u001b[0;34m\u001b[0m\u001b[0;34m\u001b[0m\u001b[0m\n",
            "\u001b[0;32msrc/oracledb/impl/thin/cursor.pyx\u001b[0m in \u001b[0;36moracledb.thin_impl.ThinCursorImpl.execute\u001b[0;34m()\u001b[0m\n",
            "\u001b[0;32msrc/oracledb/impl/thin/protocol.pyx\u001b[0m in \u001b[0;36moracledb.thin_impl.Protocol._process_single_message\u001b[0;34m()\u001b[0m\n",
            "\u001b[0;32msrc/oracledb/impl/thin/protocol.pyx\u001b[0m in \u001b[0;36moracledb.thin_impl.Protocol._process_single_message\u001b[0;34m()\u001b[0m\n",
            "\u001b[0;32msrc/oracledb/impl/thin/protocol.pyx\u001b[0m in \u001b[0;36moracledb.thin_impl.Protocol._process_message\u001b[0;34m()\u001b[0m\n",
            "\u001b[0;31mIntegrityError\u001b[0m: ORA-00001: unique constraint (RM553808.SYS_C001627171) violated\nHelp: https://docs.oracle.com/error-help/db/ora-00001/"
          ]
        }
      ],
      "source": [
        "# inserindo 50 produtos\n",
        "for i in range(11, 62, 1):\n",
        "    cursor.execute(f\"\"\"\n",
        "        INSERT INTO produtos (produto_id, nome, preco)\n",
        "        VALUES ({i}, 'Produto Eletrônico {i}', {random.uniform(100.0, 1000.0):.2f})\n",
        "    \"\"\")\n",
        "\n",
        "# inserindo 100 clientes\n",
        "for i in range(31, 132, 1):\n",
        "    cursor.execute(f\"\"\"\n",
        "        INSERT INTO clientes (cliente_id, nome, email)\n",
        "        VALUES ({i}, 'Cliente Genérico {i}', 'cliente{i}@exemplo.com')\n",
        "    \"\"\")\n",
        "\n",
        "# inserindo 20 vendedores\n",
        "for i in range(11, 32, 1):\n",
        "    cursor.execute(f\"\"\"\n",
        "        INSERT INTO vendedores (vendedor_id, nome)\n",
        "        VALUES ({i}, 'Vendedor {i}')\n",
        "    \"\"\")\n",
        "\n",
        "# inserindo 1000 vendas\n",
        "for i in range(201, 1202, 1):\n",
        "    data_venda = datetime.now() - timedelta(days=random.randint(1, 365))\n",
        "    cursor.execute(f\"\"\"\n",
        "        INSERT INTO vendas (venda_id, cliente_id, produto_id, vendedor_id, quantidade, data_venda)\n",
        "        VALUES ({i}, {random.randint(31, 131)}, {random.randint(11, 61)}, {random.randint(11, 31)}, {random.randint(1, 5)}, TO_DATE('{data_venda.strftime('%Y-%m-%d')}', 'YYYY-MM-DD'))\n",
        "    \"\"\")\n",
        "\n",
        "connection.commit()\n",
        "print(\"Dados inseridos com sucesso.\")"
      ]
    },
    {
      "cell_type": "markdown",
      "metadata": {
        "id": "gWWMvCItqOhk"
      },
      "source": [
        "- 2) Faça uma consulta  por Cliente, Produto, Vendedor e Data. Quando qualquer destes itens for branco (sem digitação) o programa deve resolver de duas formas em células difierentes. Uma solução é condicional dentro do próprio SQL e outra é resolvida no Python."
      ]
    },
    {
      "cell_type": "code",
      "execution_count": null,
      "metadata": {
        "colab": {
          "base_uri": "https://localhost:8080/"
        },
        "id": "2yS7zs8mOLjx",
        "outputId": "db22731f-142a-4e27-ea1f-95667865cd6f"
      },
      "outputs": [
        {
          "name": "stdout",
          "output_type": "stream",
          "text": [
            "Digite o nome do cliente (ou deixe em branco): \n",
            "Digite o nome do produto (ou deixe em branco): \n",
            "Digite o nome do vendedor (ou deixe em branco): \n",
            "Digite a data da venda (ou deixe em branco): 2024-03-09\n",
            "Consulta com condições dinâmicas no SQL:\n",
            "   ID Venda         Nome Cliente           Nome Produto   Preço  Quantidade  \\\n",
            "0       297  Cliente Genérico 49  Produto Eletrônico 59  218.36           2   \n",
            "1       859  Cliente Genérico 68  Produto Eletrônico 52  392.61           3   \n",
            "\n",
            "   Valor Total Venda Nome Vendedor Data Venda  \n",
            "0             436.72   Vendedor 17 2024-03-09  \n",
            "1            1177.83   Vendedor 28 2024-03-09  \n"
          ]
        }
      ],
      "source": [
        "cliente_nome = input(\"Digite o nome do cliente (ou deixe em branco): \")\n",
        "produto_nome = input(\"Digite o nome do produto (ou deixe em branco): \")\n",
        "vendedor_nome = input(\"Digite o nome do vendedor (ou deixe em branco): \")\n",
        "data_venda = input(\"Digite a data da venda (ou deixe em branco): \")\n",
        "\n",
        "try:\n",
        "    # Consulta SQL com condições dinâmicas\n",
        "    cursor.execute(\"\"\"\n",
        "        SELECT v.venda_id, c.nome AS cliente_nome, p.nome AS produto_nome, p.preco, v.quantidade,\n",
        "        (p.preco * v.quantidade) AS valor_total_venda, vd.nome AS vendedor_nome, v.data_venda\n",
        "        FROM vendas v\n",
        "        JOIN clientes c ON v.cliente_id = c.cliente_id\n",
        "        JOIN produtos p ON v.produto_id = p.produto_id\n",
        "        JOIN vendedores vd ON v.vendedor_id = vd.vendedor_id\n",
        "        WHERE (:cliente_nome IS NULL OR c.nome LIKE :cliente_nome)\n",
        "        AND (:produto_nome IS NULL OR p.nome LIKE :produto_nome)\n",
        "        AND (:vendedor_nome IS NULL OR vd.nome LIKE :vendedor_nome)\n",
        "        AND (:data_venda IS NULL OR v.data_venda = TO_DATE(:data_venda, 'YYYY-MM-DD'))\n",
        "        ORDER BY v.data_venda DESC\n",
        "    \"\"\", {'cliente_nome': cliente_nome or None, 'produto_nome': produto_nome or None,\n",
        "          'vendedor_nome': vendedor_nome or None, 'data_venda': data_venda or None})\n",
        "\n",
        "    results = cursor.fetchall()\n",
        "\n",
        "    if results:\n",
        "        df = pd.DataFrame(results, columns=['ID Venda', 'Nome Cliente', 'Nome Produto', 'Preço', 'Quantidade', 'Valor Total Venda', 'Nome Vendedor', 'Data Venda'])\n",
        "        print(\"Consulta com condições dinâmicas no SQL:\")\n",
        "        print(df)\n",
        "    else:\n",
        "        print(\"Nenhuma compra encontrada para os critérios informados.\")\n",
        "\n",
        "except cx_Oracle.DatabaseError as e:\n",
        "    print(\"Erro ao buscar compras:\", e)\n",
        "\n",
        "\n"
      ]
    },
    {
      "cell_type": "markdown",
      "metadata": {
        "id": "GzDnHfReckyr"
      },
      "source": [
        "- CONSULTA EM PYTHON"
      ]
    },
    {
      "cell_type": "code",
      "execution_count": null,
      "metadata": {
        "colab": {
          "base_uri": "https://localhost:8080/"
        },
        "id": "jhUXeFrJcUvL",
        "outputId": "87d53c62-8b4c-4e4f-c995-2f71e72a5f37"
      },
      "outputs": [
        {
          "name": "stdout",
          "output_type": "stream",
          "text": [
            "\n",
            "Consulta filtrada em Python:\n",
            "   ID Venda         Nome Cliente           Nome Produto   Preço  Quantidade  \\\n",
            "0       859  Cliente Genérico 68  Produto Eletrônico 52  392.61           3   \n",
            "1       297  Cliente Genérico 49  Produto Eletrônico 59  218.36           2   \n",
            "\n",
            "   Valor Total Venda Nome Vendedor Data Venda  \n",
            "0            1177.83   Vendedor 28 2024-03-09  \n",
            "1             436.72   Vendedor 17 2024-03-09  \n"
          ]
        }
      ],
      "source": [
        "try:\n",
        "    cursor.execute(\"\"\"\n",
        "        SELECT v.venda_id, c.nome AS cliente_nome, p.nome AS produto_nome, p.preco, v.quantidade,\n",
        "        (p.preco * v.quantidade) AS valor_total_venda, vd.nome AS vendedor_nome, v.data_venda\n",
        "        FROM vendas v\n",
        "        JOIN clientes c ON v.cliente_id = c.cliente_id\n",
        "        JOIN produtos p ON v.produto_id = p.produto_id\n",
        "        JOIN vendedores vd ON v.vendedor_id = vd.vendedor_id\n",
        "        ORDER BY v.data_venda DESC\n",
        "    \"\"\")\n",
        "\n",
        "    results = cursor.fetchall()\n",
        "\n",
        "    if results:\n",
        "        df = pd.DataFrame(results, columns=['ID Venda', 'Nome Cliente', 'Nome Produto', 'Preço', 'Quantidade', 'Valor Total Venda', 'Nome Vendedor', 'Data Venda'])\n",
        "        # Filtrando os resultados em Python conforme as entradas do usuário\n",
        "        if cliente_nome:\n",
        "            df = df[df['Nome Cliente'].str.contains(cliente_nome, case=False)]\n",
        "        if produto_nome:\n",
        "            df = df[df['Nome Produto'].str.contains(produto_nome, case=False)]\n",
        "        if vendedor_nome:\n",
        "            df = df[df['Nome Vendedor'].str.contains(vendedor_nome, case=False)]\n",
        "        if data_venda:\n",
        "            df = df[df['Data Venda'] == pd.to_datetime(data_venda)]\n",
        "\n",
        "        if not df.empty:\n",
        "            print(\"\\nConsulta filtrada em Python:\")\n",
        "            print(df)\n",
        "        else:\n",
        "            print(\"\\nNenhuma compra encontrada para os critérios informados.\")\n",
        "    else:\n",
        "        print(\"\\nNenhuma compra encontrada.\")\n",
        "\n",
        "except cx_Oracle.DatabaseError as e:\n",
        "    print(\"\\nErro ao buscar compras:\", e)\n",
        "\n",
        "finally:\n",
        "    cursor.close()\n",
        "    connection.close()"
      ]
    },
    {
      "cell_type": "code",
      "execution_count": null,
      "metadata": {
        "colab": {
          "base_uri": "https://localhost:8080/",
          "height": 112
        },
        "id": "9ppCi5RjW-BT",
        "outputId": "332089ea-e2e5-4b64-b2ef-6588d3169add"
      },
      "outputs": [
        {
          "data": {
            "application/vnd.google.colaboratory.intrinsic+json": {
              "summary": "{\n  \"name\": \"df\",\n  \"rows\": 2,\n  \"fields\": [\n    {\n      \"column\": \"ID Venda\",\n      \"properties\": {\n        \"dtype\": \"number\",\n        \"std\": 397,\n        \"min\": 297,\n        \"max\": 859,\n        \"num_unique_values\": 2,\n        \"samples\": [\n          859,\n          297\n        ],\n        \"semantic_type\": \"\",\n        \"description\": \"\"\n      }\n    },\n    {\n      \"column\": \"Nome Cliente\",\n      \"properties\": {\n        \"dtype\": \"string\",\n        \"num_unique_values\": 2,\n        \"samples\": [\n          \"Cliente Gen\\u00e9rico 68\",\n          \"Cliente Gen\\u00e9rico 49\"\n        ],\n        \"semantic_type\": \"\",\n        \"description\": \"\"\n      }\n    },\n    {\n      \"column\": \"Nome Produto\",\n      \"properties\": {\n        \"dtype\": \"string\",\n        \"num_unique_values\": 2,\n        \"samples\": [\n          \"Produto Eletr\\u00f4nico 52\",\n          \"Produto Eletr\\u00f4nico 59\"\n        ],\n        \"semantic_type\": \"\",\n        \"description\": \"\"\n      }\n    },\n    {\n      \"column\": \"Pre\\u00e7o\",\n      \"properties\": {\n        \"dtype\": \"number\",\n        \"std\": 123.2133566217559,\n        \"min\": 218.36,\n        \"max\": 392.61,\n        \"num_unique_values\": 2,\n        \"samples\": [\n          392.61,\n          218.36\n        ],\n        \"semantic_type\": \"\",\n        \"description\": \"\"\n      }\n    },\n    {\n      \"column\": \"Quantidade\",\n      \"properties\": {\n        \"dtype\": \"number\",\n        \"std\": 0,\n        \"min\": 2,\n        \"max\": 3,\n        \"num_unique_values\": 2,\n        \"samples\": [\n          3,\n          2\n        ],\n        \"semantic_type\": \"\",\n        \"description\": \"\"\n      }\n    },\n    {\n      \"column\": \"Valor Total Venda\",\n      \"properties\": {\n        \"dtype\": \"number\",\n        \"std\": 524.0439066051622,\n        \"min\": 436.72,\n        \"max\": 1177.83,\n        \"num_unique_values\": 2,\n        \"samples\": [\n          1177.83,\n          436.72\n        ],\n        \"semantic_type\": \"\",\n        \"description\": \"\"\n      }\n    },\n    {\n      \"column\": \"Nome Vendedor\",\n      \"properties\": {\n        \"dtype\": \"string\",\n        \"num_unique_values\": 2,\n        \"samples\": [\n          \"Vendedor 28\",\n          \"Vendedor 17\"\n        ],\n        \"semantic_type\": \"\",\n        \"description\": \"\"\n      }\n    },\n    {\n      \"column\": \"Data Venda\",\n      \"properties\": {\n        \"dtype\": \"date\",\n        \"min\": \"2024-03-09 00:00:00\",\n        \"max\": \"2024-03-09 00:00:00\",\n        \"num_unique_values\": 1,\n        \"samples\": [\n          \"2024-03-09 00:00:00\"\n        ],\n        \"semantic_type\": \"\",\n        \"description\": \"\"\n      }\n    }\n  ]\n}",
              "type": "dataframe",
              "variable_name": "df"
            },
            "text/html": [
              "\n",
              "  <div id=\"df-6915e05f-1aef-4091-a3b2-326a5e05b6df\" class=\"colab-df-container\">\n",
              "    <div>\n",
              "<style scoped>\n",
              "    .dataframe tbody tr th:only-of-type {\n",
              "        vertical-align: middle;\n",
              "    }\n",
              "\n",
              "    .dataframe tbody tr th {\n",
              "        vertical-align: top;\n",
              "    }\n",
              "\n",
              "    .dataframe thead th {\n",
              "        text-align: right;\n",
              "    }\n",
              "</style>\n",
              "<table border=\"1\" class=\"dataframe\">\n",
              "  <thead>\n",
              "    <tr style=\"text-align: right;\">\n",
              "      <th></th>\n",
              "      <th>ID Venda</th>\n",
              "      <th>Nome Cliente</th>\n",
              "      <th>Nome Produto</th>\n",
              "      <th>Preço</th>\n",
              "      <th>Quantidade</th>\n",
              "      <th>Valor Total Venda</th>\n",
              "      <th>Nome Vendedor</th>\n",
              "      <th>Data Venda</th>\n",
              "    </tr>\n",
              "  </thead>\n",
              "  <tbody>\n",
              "    <tr>\n",
              "      <th>0</th>\n",
              "      <td>297</td>\n",
              "      <td>Cliente Genérico 49</td>\n",
              "      <td>Produto Eletrônico 59</td>\n",
              "      <td>218.36</td>\n",
              "      <td>2</td>\n",
              "      <td>436.72</td>\n",
              "      <td>Vendedor 17</td>\n",
              "      <td>2024-03-09</td>\n",
              "    </tr>\n",
              "    <tr>\n",
              "      <th>1</th>\n",
              "      <td>859</td>\n",
              "      <td>Cliente Genérico 68</td>\n",
              "      <td>Produto Eletrônico 52</td>\n",
              "      <td>392.61</td>\n",
              "      <td>3</td>\n",
              "      <td>1177.83</td>\n",
              "      <td>Vendedor 28</td>\n",
              "      <td>2024-03-09</td>\n",
              "    </tr>\n",
              "  </tbody>\n",
              "</table>\n",
              "</div>\n",
              "    <div class=\"colab-df-buttons\">\n",
              "\n",
              "  <div class=\"colab-df-container\">\n",
              "    <button class=\"colab-df-convert\" onclick=\"convertToInteractive('df-6915e05f-1aef-4091-a3b2-326a5e05b6df')\"\n",
              "            title=\"Convert this dataframe to an interactive table.\"\n",
              "            style=\"display:none;\">\n",
              "\n",
              "  <svg xmlns=\"http://www.w3.org/2000/svg\" height=\"24px\" viewBox=\"0 -960 960 960\">\n",
              "    <path d=\"M120-120v-720h720v720H120Zm60-500h600v-160H180v160Zm220 220h160v-160H400v160Zm0 220h160v-160H400v160ZM180-400h160v-160H180v160Zm440 0h160v-160H620v160ZM180-180h160v-160H180v160Zm440 0h160v-160H620v160Z\"/>\n",
              "  </svg>\n",
              "    </button>\n",
              "\n",
              "  <style>\n",
              "    .colab-df-container {\n",
              "      display:flex;\n",
              "      gap: 12px;\n",
              "    }\n",
              "\n",
              "    .colab-df-convert {\n",
              "      background-color: #E8F0FE;\n",
              "      border: none;\n",
              "      border-radius: 50%;\n",
              "      cursor: pointer;\n",
              "      display: none;\n",
              "      fill: #1967D2;\n",
              "      height: 32px;\n",
              "      padding: 0 0 0 0;\n",
              "      width: 32px;\n",
              "    }\n",
              "\n",
              "    .colab-df-convert:hover {\n",
              "      background-color: #E2EBFA;\n",
              "      box-shadow: 0px 1px 2px rgba(60, 64, 67, 0.3), 0px 1px 3px 1px rgba(60, 64, 67, 0.15);\n",
              "      fill: #174EA6;\n",
              "    }\n",
              "\n",
              "    .colab-df-buttons div {\n",
              "      margin-bottom: 4px;\n",
              "    }\n",
              "\n",
              "    [theme=dark] .colab-df-convert {\n",
              "      background-color: #3B4455;\n",
              "      fill: #D2E3FC;\n",
              "    }\n",
              "\n",
              "    [theme=dark] .colab-df-convert:hover {\n",
              "      background-color: #434B5C;\n",
              "      box-shadow: 0px 1px 3px 1px rgba(0, 0, 0, 0.15);\n",
              "      filter: drop-shadow(0px 1px 2px rgba(0, 0, 0, 0.3));\n",
              "      fill: #FFFFFF;\n",
              "    }\n",
              "  </style>\n",
              "\n",
              "    <script>\n",
              "      const buttonEl =\n",
              "        document.querySelector('#df-6915e05f-1aef-4091-a3b2-326a5e05b6df button.colab-df-convert');\n",
              "      buttonEl.style.display =\n",
              "        google.colab.kernel.accessAllowed ? 'block' : 'none';\n",
              "\n",
              "      async function convertToInteractive(key) {\n",
              "        const element = document.querySelector('#df-6915e05f-1aef-4091-a3b2-326a5e05b6df');\n",
              "        const dataTable =\n",
              "          await google.colab.kernel.invokeFunction('convertToInteractive',\n",
              "                                                    [key], {});\n",
              "        if (!dataTable) return;\n",
              "\n",
              "        const docLinkHtml = 'Like what you see? Visit the ' +\n",
              "          '<a target=\"_blank\" href=https://colab.research.google.com/notebooks/data_table.ipynb>data table notebook</a>'\n",
              "          + ' to learn more about interactive tables.';\n",
              "        element.innerHTML = '';\n",
              "        dataTable['output_type'] = 'display_data';\n",
              "        await google.colab.output.renderOutput(dataTable, element);\n",
              "        const docLink = document.createElement('div');\n",
              "        docLink.innerHTML = docLinkHtml;\n",
              "        element.appendChild(docLink);\n",
              "      }\n",
              "    </script>\n",
              "  </div>\n",
              "\n",
              "\n",
              "<div id=\"df-ca0afa04-5cb1-49c8-8bed-63bfe982a804\">\n",
              "  <button class=\"colab-df-quickchart\" onclick=\"quickchart('df-ca0afa04-5cb1-49c8-8bed-63bfe982a804')\"\n",
              "            title=\"Suggest charts\"\n",
              "            style=\"display:none;\">\n",
              "\n",
              "<svg xmlns=\"http://www.w3.org/2000/svg\" height=\"24px\"viewBox=\"0 0 24 24\"\n",
              "     width=\"24px\">\n",
              "    <g>\n",
              "        <path d=\"M19 3H5c-1.1 0-2 .9-2 2v14c0 1.1.9 2 2 2h14c1.1 0 2-.9 2-2V5c0-1.1-.9-2-2-2zM9 17H7v-7h2v7zm4 0h-2V7h2v10zm4 0h-2v-4h2v4z\"/>\n",
              "    </g>\n",
              "</svg>\n",
              "  </button>\n",
              "\n",
              "<style>\n",
              "  .colab-df-quickchart {\n",
              "      --bg-color: #E8F0FE;\n",
              "      --fill-color: #1967D2;\n",
              "      --hover-bg-color: #E2EBFA;\n",
              "      --hover-fill-color: #174EA6;\n",
              "      --disabled-fill-color: #AAA;\n",
              "      --disabled-bg-color: #DDD;\n",
              "  }\n",
              "\n",
              "  [theme=dark] .colab-df-quickchart {\n",
              "      --bg-color: #3B4455;\n",
              "      --fill-color: #D2E3FC;\n",
              "      --hover-bg-color: #434B5C;\n",
              "      --hover-fill-color: #FFFFFF;\n",
              "      --disabled-bg-color: #3B4455;\n",
              "      --disabled-fill-color: #666;\n",
              "  }\n",
              "\n",
              "  .colab-df-quickchart {\n",
              "    background-color: var(--bg-color);\n",
              "    border: none;\n",
              "    border-radius: 50%;\n",
              "    cursor: pointer;\n",
              "    display: none;\n",
              "    fill: var(--fill-color);\n",
              "    height: 32px;\n",
              "    padding: 0;\n",
              "    width: 32px;\n",
              "  }\n",
              "\n",
              "  .colab-df-quickchart:hover {\n",
              "    background-color: var(--hover-bg-color);\n",
              "    box-shadow: 0 1px 2px rgba(60, 64, 67, 0.3), 0 1px 3px 1px rgba(60, 64, 67, 0.15);\n",
              "    fill: var(--button-hover-fill-color);\n",
              "  }\n",
              "\n",
              "  .colab-df-quickchart-complete:disabled,\n",
              "  .colab-df-quickchart-complete:disabled:hover {\n",
              "    background-color: var(--disabled-bg-color);\n",
              "    fill: var(--disabled-fill-color);\n",
              "    box-shadow: none;\n",
              "  }\n",
              "\n",
              "  .colab-df-spinner {\n",
              "    border: 2px solid var(--fill-color);\n",
              "    border-color: transparent;\n",
              "    border-bottom-color: var(--fill-color);\n",
              "    animation:\n",
              "      spin 1s steps(1) infinite;\n",
              "  }\n",
              "\n",
              "  @keyframes spin {\n",
              "    0% {\n",
              "      border-color: transparent;\n",
              "      border-bottom-color: var(--fill-color);\n",
              "      border-left-color: var(--fill-color);\n",
              "    }\n",
              "    20% {\n",
              "      border-color: transparent;\n",
              "      border-left-color: var(--fill-color);\n",
              "      border-top-color: var(--fill-color);\n",
              "    }\n",
              "    30% {\n",
              "      border-color: transparent;\n",
              "      border-left-color: var(--fill-color);\n",
              "      border-top-color: var(--fill-color);\n",
              "      border-right-color: var(--fill-color);\n",
              "    }\n",
              "    40% {\n",
              "      border-color: transparent;\n",
              "      border-right-color: var(--fill-color);\n",
              "      border-top-color: var(--fill-color);\n",
              "    }\n",
              "    60% {\n",
              "      border-color: transparent;\n",
              "      border-right-color: var(--fill-color);\n",
              "    }\n",
              "    80% {\n",
              "      border-color: transparent;\n",
              "      border-right-color: var(--fill-color);\n",
              "      border-bottom-color: var(--fill-color);\n",
              "    }\n",
              "    90% {\n",
              "      border-color: transparent;\n",
              "      border-bottom-color: var(--fill-color);\n",
              "    }\n",
              "  }\n",
              "</style>\n",
              "\n",
              "  <script>\n",
              "    async function quickchart(key) {\n",
              "      const quickchartButtonEl =\n",
              "        document.querySelector('#' + key + ' button');\n",
              "      quickchartButtonEl.disabled = true;  // To prevent multiple clicks.\n",
              "      quickchartButtonEl.classList.add('colab-df-spinner');\n",
              "      try {\n",
              "        const charts = await google.colab.kernel.invokeFunction(\n",
              "            'suggestCharts', [key], {});\n",
              "      } catch (error) {\n",
              "        console.error('Error during call to suggestCharts:', error);\n",
              "      }\n",
              "      quickchartButtonEl.classList.remove('colab-df-spinner');\n",
              "      quickchartButtonEl.classList.add('colab-df-quickchart-complete');\n",
              "    }\n",
              "    (() => {\n",
              "      let quickchartButtonEl =\n",
              "        document.querySelector('#df-ca0afa04-5cb1-49c8-8bed-63bfe982a804 button');\n",
              "      quickchartButtonEl.style.display =\n",
              "        google.colab.kernel.accessAllowed ? 'block' : 'none';\n",
              "    })();\n",
              "  </script>\n",
              "</div>\n",
              "\n",
              "    </div>\n",
              "  </div>\n"
            ],
            "text/plain": [
              "   ID Venda         Nome Cliente           Nome Produto   Preço  Quantidade  \\\n",
              "0       297  Cliente Genérico 49  Produto Eletrônico 59  218.36           2   \n",
              "1       859  Cliente Genérico 68  Produto Eletrônico 52  392.61           3   \n",
              "\n",
              "   Valor Total Venda Nome Vendedor Data Venda  \n",
              "0             436.72   Vendedor 17 2024-03-09  \n",
              "1            1177.83   Vendedor 28 2024-03-09  "
            ]
          },
          "execution_count": 33,
          "metadata": {},
          "output_type": "execute_result"
        }
      ],
      "source": [
        "df.head(5)\n"
      ]
    },
    {
      "cell_type": "markdown",
      "metadata": {
        "id": "ApslCpGf8DlW"
      },
      "source": [
        "- 3) Calcule a mediana por total de vendas por cliente via python mas selecionando por SQL"
      ]
    },
    {
      "cell_type": "code",
      "execution_count": null,
      "metadata": {
        "colab": {
          "base_uri": "https://localhost:8080/"
        },
        "id": "ombyqRoKMyMy",
        "outputId": "3a5638fa-6d2c-4cd5-dea0-0bd17fc00a31"
      },
      "outputs": [
        {
          "name": "stdout",
          "output_type": "stream",
          "text": [
            "Mediana do total de vendas por cliente: 14426.05\n"
          ]
        }
      ],
      "source": [
        "cursor.execute(\"\"\"\n",
        "    SELECT c.nome AS cliente_nome, SUM(p.preco * v.quantidade) AS valor_total_venda\n",
        "    FROM vendas v\n",
        "    JOIN clientes c ON v.cliente_id = c.cliente_id\n",
        "    JOIN produtos p ON v.produto_id = p.produto_id\n",
        "    GROUP BY c.nome\n",
        "\"\"\")\n",
        "results = cursor.fetchall()\n",
        "\n",
        "# Extraindo os valores do total de vendas para uma lista, pois o results nao é uma lista, apenas guarda o resultado do select\n",
        "valor_total_vendas = [result[1] for result in results]\n",
        "\n",
        "mediana = pd.Series(valor_total_vendas).median()\n",
        "print(f\"Mediana do total de vendas por cliente: {mediana:.2f}\")\n"
      ]
    }
  ],
  "metadata": {
    "colab": {
      "provenance": []
    },
    "kernelspec": {
      "display_name": "Python 3",
      "name": "python3"
    },
    "language_info": {
      "name": "python"
    }
  },
  "nbformat": 4,
  "nbformat_minor": 0
}
