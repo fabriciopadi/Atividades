{
  "cells": [
    {
      "cell_type": "markdown",
      "metadata": {
        "id": "kcNZdsEqga4Z"
      },
      "source": [
        "## Instalação Bibliotecas"
      ]
    },
    {
      "cell_type": "code",
      "execution_count": 1,
      "metadata": {
        "colab": {
          "base_uri": "https://localhost:8080/"
        },
        "id": "9N0V9UQMgnvT",
        "outputId": "e3a0635e-78b8-4bef-aebd-c559f901169f"
      },
      "outputs": [
        {
          "output_type": "stream",
          "name": "stdout",
          "text": [
            "Collecting oracledb\n",
            "  Downloading oracledb-2.4.1-cp310-cp310-manylinux_2_17_x86_64.manylinux2014_x86_64.whl.metadata (5.2 kB)\n",
            "Requirement already satisfied: cryptography>=3.2.1 in /usr/local/lib/python3.10/dist-packages (from oracledb) (43.0.1)\n",
            "Requirement already satisfied: cffi>=1.12 in /usr/local/lib/python3.10/dist-packages (from cryptography>=3.2.1->oracledb) (1.17.1)\n",
            "Requirement already satisfied: pycparser in /usr/local/lib/python3.10/dist-packages (from cffi>=1.12->cryptography>=3.2.1->oracledb) (2.22)\n",
            "Downloading oracledb-2.4.1-cp310-cp310-manylinux_2_17_x86_64.manylinux2014_x86_64.whl (2.4 MB)\n",
            "\u001b[2K   \u001b[90m━━━━━━━━━━━━━━━━━━━━━━━━━━━━━━━━━━━━━━━━\u001b[0m \u001b[32m2.4/2.4 MB\u001b[0m \u001b[31m15.9 MB/s\u001b[0m eta \u001b[36m0:00:00\u001b[0m\n",
            "\u001b[?25hInstalling collected packages: oracledb\n",
            "Successfully installed oracledb-2.4.1\n"
          ]
        }
      ],
      "source": [
        "%pip install oracledb"
      ]
    },
    {
      "cell_type": "code",
      "execution_count": 2,
      "metadata": {
        "colab": {
          "base_uri": "https://localhost:8080/"
        },
        "id": "b8c8u2X-gswx",
        "outputId": "ae2a6808-bbdb-4aa0-9148-f4e5da642e5e"
      },
      "outputs": [
        {
          "output_type": "stream",
          "name": "stdout",
          "text": [
            "Collecting cx_Oracle\n",
            "  Downloading cx_Oracle-8.3.0-cp310-cp310-manylinux_2_5_x86_64.manylinux1_x86_64.manylinux_2_12_x86_64.manylinux2010_x86_64.whl.metadata (3.3 kB)\n",
            "Downloading cx_Oracle-8.3.0-cp310-cp310-manylinux_2_5_x86_64.manylinux1_x86_64.manylinux_2_12_x86_64.manylinux2010_x86_64.whl (892 kB)\n",
            "\u001b[?25l   \u001b[90m━━━━━━━━━━━━━━━━━━━━━━━━━━━━━━━━━━━━━━━━\u001b[0m \u001b[32m0.0/892.6 kB\u001b[0m \u001b[31m?\u001b[0m eta \u001b[36m-:--:--\u001b[0m\r\u001b[2K   \u001b[91m━━━━━━━━━━━━━━━━━━━━━━━━━━━━━━━━\u001b[0m\u001b[91m╸\u001b[0m\u001b[90m━━━━━━━\u001b[0m \u001b[32m727.0/892.6 kB\u001b[0m \u001b[31m21.3 MB/s\u001b[0m eta \u001b[36m0:00:01\u001b[0m\r\u001b[2K   \u001b[90m━━━━━━━━━━━━━━━━━━━━━━━━━━━━━━━━━━━━━━━━\u001b[0m \u001b[32m892.6/892.6 kB\u001b[0m \u001b[31m13.2 MB/s\u001b[0m eta \u001b[36m0:00:00\u001b[0m\n",
            "\u001b[?25hInstalling collected packages: cx_Oracle\n",
            "Successfully installed cx_Oracle-8.3.0\n"
          ]
        }
      ],
      "source": [
        "!pip install cx_Oracle"
      ]
    },
    {
      "cell_type": "markdown",
      "metadata": {
        "id": "cgFWH-KWgyLM"
      },
      "source": [
        "## Bibliotecas"
      ]
    },
    {
      "cell_type": "code",
      "execution_count": 3,
      "metadata": {
        "id": "QnpPEovdg7Z0"
      },
      "outputs": [],
      "source": [
        "import oracledb\n",
        "import cx_Oracle\n",
        "import getpass\n",
        "import pandas as pd\n",
        "import random\n",
        "from datetime import datetime, timedelta"
      ]
    },
    {
      "cell_type": "markdown",
      "metadata": {
        "id": "xmHTI1IkhI80"
      },
      "source": [
        "##1) Gere mais 50 produtos, 20 vendedores, 100 clientes, 1000 vendas."
      ]
    },
    {
      "cell_type": "code",
      "execution_count": 11,
      "metadata": {
        "colab": {
          "base_uri": "https://localhost:8080/"
        },
        "id": "pecHOUVVg92V",
        "outputId": "959609a2-4025-4fd3-8162-8f7537bd4ce1"
      },
      "outputs": [
        {
          "output_type": "stream",
          "name": "stdout",
          "text": [
            "Digite sua senha: ··········\n",
            "Conexão bem-sucedida ao Oracle Database.\n"
          ]
        }
      ],
      "source": [
        "pw = getpass.getpass(\"Digite sua senha: \")\n",
        "\n",
        "connection = oracledb.connect(\n",
        "    user=\"RM553808\",\n",
        "    password=pw,\n",
        "    dsn=\"oracle.fiap.com.br:1521/orcl\")\n",
        "\n",
        "print(\"Conexão bem-sucedida ao Oracle Database.\")\n",
        "\n",
        "cursor = connection.cursor()"
      ]
    },
    {
      "cell_type": "code",
      "execution_count": 5,
      "metadata": {
        "colab": {
          "base_uri": "https://localhost:8080/"
        },
        "id": "VHlWTUNOhJQq",
        "outputId": "9db8e641-3bd1-48e7-803d-afbc4b1236d4"
      },
      "outputs": [
        {
          "output_type": "stream",
          "name": "stdout",
          "text": [
            "Dados inseridos com sucesso.\n"
          ]
        }
      ],
      "source": [
        "# inserindo 50 produtos\n",
        "for i in range(11, 62, 1):\n",
        "    cursor.execute(f\"\"\"\n",
        "        INSERT INTO produtos (produto_id, nome, preco)\n",
        "        VALUES ({i}, 'Produto Eletrônico {i}', {random.uniform(100.0, 1000.0):.2f})\n",
        "    \"\"\")\n",
        "\n",
        "# inserindo 100 clientes\n",
        "for i in range(31, 132, 1):\n",
        "    cursor.execute(f\"\"\"\n",
        "        INSERT INTO clientes (cliente_id, nome, email)\n",
        "        VALUES ({i}, 'Cliente Genérico {i}', 'cliente{i}@exemplo.com')\n",
        "    \"\"\")\n",
        "\n",
        "# inserindo 20 vendedores\n",
        "for i in range(11, 32, 1):\n",
        "    cursor.execute(f\"\"\"\n",
        "        INSERT INTO vendedores (vendedor_id, nome)\n",
        "        VALUES ({i}, 'Vendedor {i}')\n",
        "    \"\"\")\n",
        "\n",
        "# inserindo 1000 vendas\n",
        "for i in range(201, 1202, 1):\n",
        "    data_venda = datetime.now() - timedelta(days=random.randint(1, 365))\n",
        "    cursor.execute(f\"\"\"\n",
        "        INSERT INTO vendas (venda_id, cliente_id, produto_id, vendedor_id, quantidade, data_venda)\n",
        "        VALUES ({i}, {random.randint(31, 131)}, {random.randint(11, 61)}, {random.randint(11, 31)}, {random.randint(1, 5)}, TO_DATE('{data_venda.strftime('%Y-%m-%d')}', 'YYYY-MM-DD'))\n",
        "    \"\"\")\n",
        "\n",
        "connection.commit()\n",
        "print(\"Dados inseridos com sucesso.\")"
      ]
    },
    {
      "cell_type": "markdown",
      "metadata": {
        "id": "gWWMvCItqOhk"
      },
      "source": [
        "##2) Faça uma consulta  por Cliente, Produto, Vendedor e Data. Quando qualquer destes itens for branco (sem digitação) o programa deve resolver de duas formas em células difierentes. Uma solução é condicional dentro do próprio SQL e outra é resolvida no Python."
      ]
    },
    {
      "cell_type": "code",
      "execution_count": 6,
      "metadata": {
        "colab": {
          "base_uri": "https://localhost:8080/"
        },
        "id": "2yS7zs8mOLjx",
        "outputId": "59ddaa72-922c-402e-9866-92203bf4956c"
      },
      "outputs": [
        {
          "output_type": "stream",
          "name": "stdout",
          "text": [
            "Digite o nome do cliente (ou deixe em branco): \n",
            "Digite o nome do produto (ou deixe em branco): \n",
            "Digite o nome do vendedor (ou deixe em branco): \n",
            "Digite a data da venda (ou deixe em branco): 2024-03-09\n",
            "Consulta com condições dinâmicas no SQL:\n",
            "   ID Venda         Nome Cliente           Nome Produto   Preço  Quantidade  \\\n",
            "0      1086  Cliente Genérico 37  Produto Eletrônico 40  763.13           5   \n",
            "1       959  Cliente Genérico 62  Produto Eletrônico 20  445.29           4   \n",
            "\n",
            "   Valor Total Venda Nome Vendedor Data Venda  \n",
            "0            3815.65   Vendedor 23 2024-03-09  \n",
            "1            1781.16   Vendedor 15 2024-03-09  \n"
          ]
        }
      ],
      "source": [
        "cliente_nome = input(\"Digite o nome do cliente (ou deixe em branco): \")\n",
        "produto_nome = input(\"Digite o nome do produto (ou deixe em branco): \")\n",
        "vendedor_nome = input(\"Digite o nome do vendedor (ou deixe em branco): \")\n",
        "data_venda = input(\"Digite a data da venda (ou deixe em branco): \")\n",
        "\n",
        "try:\n",
        "    # Consulta SQL com condições dinâmicas\n",
        "    cursor.execute(\"\"\"\n",
        "        SELECT v.venda_id, c.nome AS cliente_nome, p.nome AS produto_nome, p.preco, v.quantidade,\n",
        "        (p.preco * v.quantidade) AS valor_total_venda, vd.nome AS vendedor_nome, v.data_venda\n",
        "        FROM vendas v\n",
        "        JOIN clientes c ON v.cliente_id = c.cliente_id\n",
        "        JOIN produtos p ON v.produto_id = p.produto_id\n",
        "        JOIN vendedores vd ON v.vendedor_id = vd.vendedor_id\n",
        "        WHERE (:cliente_nome IS NULL OR c.nome LIKE :cliente_nome)\n",
        "        AND (:produto_nome IS NULL OR p.nome LIKE :produto_nome)\n",
        "        AND (:vendedor_nome IS NULL OR vd.nome LIKE :vendedor_nome)\n",
        "        AND (:data_venda IS NULL OR v.data_venda = TO_DATE(:data_venda, 'YYYY-MM-DD'))\n",
        "        ORDER BY v.data_venda DESC\n",
        "    \"\"\", {'cliente_nome': cliente_nome or None, 'produto_nome': produto_nome or None,\n",
        "          'vendedor_nome': vendedor_nome or None, 'data_venda': data_venda or None})\n",
        "\n",
        "    results = cursor.fetchall()\n",
        "\n",
        "    if results:\n",
        "        df = pd.DataFrame(results, columns=['ID Venda', 'Nome Cliente', 'Nome Produto', 'Preço', 'Quantidade', 'Valor Total Venda', 'Nome Vendedor', 'Data Venda'])\n",
        "        print(\"Consulta com condições dinâmicas no SQL:\")\n",
        "        print(df)\n",
        "    else:\n",
        "        print(\"Nenhuma compra encontrada para os critérios informados.\")\n",
        "\n",
        "except cx_Oracle.DatabaseError as e:\n",
        "    print(\"Erro ao buscar compras:\", e)\n",
        "\n",
        "\n"
      ]
    },
    {
      "cell_type": "markdown",
      "metadata": {
        "id": "GzDnHfReckyr"
      },
      "source": [
        "- CONSULTA EM PYTHON"
      ]
    },
    {
      "cell_type": "code",
      "execution_count": 12,
      "metadata": {
        "colab": {
          "base_uri": "https://localhost:8080/"
        },
        "id": "jhUXeFrJcUvL",
        "outputId": "79ca5288-e446-40d7-8e0e-d4aca37e1643"
      },
      "outputs": [
        {
          "output_type": "stream",
          "name": "stdout",
          "text": [
            "\n",
            "Consulta filtrada em Python:\n",
            "     ID Venda         Nome Cliente           Nome Produto   Preço  Quantidade  \\\n",
            "622       959  Cliente Genérico 62  Produto Eletrônico 20  445.29           4   \n",
            "623      1086  Cliente Genérico 37  Produto Eletrônico 40  763.13           5   \n",
            "\n",
            "     Valor Total Venda Nome Vendedor Data Venda  \n",
            "622            1781.16   Vendedor 15 2024-03-09  \n",
            "623            3815.65   Vendedor 23 2024-03-09  \n"
          ]
        }
      ],
      "source": [
        "try:\n",
        "    cursor.execute(\"\"\"\n",
        "        SELECT v.venda_id, c.nome AS cliente_nome, p.nome AS produto_nome, p.preco, v.quantidade,\n",
        "        (p.preco * v.quantidade) AS valor_total_venda, vd.nome AS vendedor_nome, v.data_venda\n",
        "        FROM vendas v\n",
        "        JOIN clientes c ON v.cliente_id = c.cliente_id\n",
        "        JOIN produtos p ON v.produto_id = p.produto_id\n",
        "        JOIN vendedores vd ON v.vendedor_id = vd.vendedor_id\n",
        "        ORDER BY v.data_venda DESC\n",
        "    \"\"\")\n",
        "\n",
        "    results = cursor.fetchall()\n",
        "\n",
        "    if results:\n",
        "        df = pd.DataFrame(results, columns=['ID Venda', 'Nome Cliente', 'Nome Produto', 'Preço', 'Quantidade', 'Valor Total Venda', 'Nome Vendedor', 'Data Venda'])\n",
        "        # Filtrando os resultados em Python conforme as entradas do usuário\n",
        "        if cliente_nome:\n",
        "            df = df[df['Nome Cliente'].str.contains(cliente_nome, case=False)]\n",
        "        if produto_nome:\n",
        "            df = df[df['Nome Produto'].str.contains(produto_nome, case=False)]\n",
        "        if vendedor_nome:\n",
        "            df = df[df['Nome Vendedor'].str.contains(vendedor_nome, case=False)]\n",
        "        if data_venda:\n",
        "            df = df[df['Data Venda'] == pd.to_datetime(data_venda)]\n",
        "\n",
        "        if not df.empty:\n",
        "            print(\"\\nConsulta filtrada em Python:\")\n",
        "            print(df)\n",
        "        else:\n",
        "            print(\"\\nNenhuma compra encontrada para os critérios informados.\")\n",
        "    else:\n",
        "        print(\"\\nNenhuma compra encontrada.\")\n",
        "\n",
        "except cx_Oracle.DatabaseError as e:\n",
        "    print(\"\\nErro ao buscar compras:\", e)\n"
      ]
    },
    {
      "cell_type": "code",
      "execution_count": 13,
      "metadata": {
        "colab": {
          "base_uri": "https://localhost:8080/",
          "height": 112
        },
        "id": "9ppCi5RjW-BT",
        "outputId": "c9734420-7009-4d6c-b555-bf1a7e12c30b"
      },
      "outputs": [
        {
          "output_type": "execute_result",
          "data": {
            "text/plain": [
              "     ID Venda         Nome Cliente           Nome Produto   Preço  Quantidade  \\\n",
              "622       959  Cliente Genérico 62  Produto Eletrônico 20  445.29           4   \n",
              "623      1086  Cliente Genérico 37  Produto Eletrônico 40  763.13           5   \n",
              "\n",
              "     Valor Total Venda Nome Vendedor Data Venda  \n",
              "622            1781.16   Vendedor 15 2024-03-09  \n",
              "623            3815.65   Vendedor 23 2024-03-09  "
            ],
            "text/html": [
              "\n",
              "  <div id=\"df-6e2fe1ad-8983-40cc-bc66-112b9c08305b\" class=\"colab-df-container\">\n",
              "    <div>\n",
              "<style scoped>\n",
              "    .dataframe tbody tr th:only-of-type {\n",
              "        vertical-align: middle;\n",
              "    }\n",
              "\n",
              "    .dataframe tbody tr th {\n",
              "        vertical-align: top;\n",
              "    }\n",
              "\n",
              "    .dataframe thead th {\n",
              "        text-align: right;\n",
              "    }\n",
              "</style>\n",
              "<table border=\"1\" class=\"dataframe\">\n",
              "  <thead>\n",
              "    <tr style=\"text-align: right;\">\n",
              "      <th></th>\n",
              "      <th>ID Venda</th>\n",
              "      <th>Nome Cliente</th>\n",
              "      <th>Nome Produto</th>\n",
              "      <th>Preço</th>\n",
              "      <th>Quantidade</th>\n",
              "      <th>Valor Total Venda</th>\n",
              "      <th>Nome Vendedor</th>\n",
              "      <th>Data Venda</th>\n",
              "    </tr>\n",
              "  </thead>\n",
              "  <tbody>\n",
              "    <tr>\n",
              "      <th>622</th>\n",
              "      <td>959</td>\n",
              "      <td>Cliente Genérico 62</td>\n",
              "      <td>Produto Eletrônico 20</td>\n",
              "      <td>445.29</td>\n",
              "      <td>4</td>\n",
              "      <td>1781.16</td>\n",
              "      <td>Vendedor 15</td>\n",
              "      <td>2024-03-09</td>\n",
              "    </tr>\n",
              "    <tr>\n",
              "      <th>623</th>\n",
              "      <td>1086</td>\n",
              "      <td>Cliente Genérico 37</td>\n",
              "      <td>Produto Eletrônico 40</td>\n",
              "      <td>763.13</td>\n",
              "      <td>5</td>\n",
              "      <td>3815.65</td>\n",
              "      <td>Vendedor 23</td>\n",
              "      <td>2024-03-09</td>\n",
              "    </tr>\n",
              "  </tbody>\n",
              "</table>\n",
              "</div>\n",
              "    <div class=\"colab-df-buttons\">\n",
              "\n",
              "  <div class=\"colab-df-container\">\n",
              "    <button class=\"colab-df-convert\" onclick=\"convertToInteractive('df-6e2fe1ad-8983-40cc-bc66-112b9c08305b')\"\n",
              "            title=\"Convert this dataframe to an interactive table.\"\n",
              "            style=\"display:none;\">\n",
              "\n",
              "  <svg xmlns=\"http://www.w3.org/2000/svg\" height=\"24px\" viewBox=\"0 -960 960 960\">\n",
              "    <path d=\"M120-120v-720h720v720H120Zm60-500h600v-160H180v160Zm220 220h160v-160H400v160Zm0 220h160v-160H400v160ZM180-400h160v-160H180v160Zm440 0h160v-160H620v160ZM180-180h160v-160H180v160Zm440 0h160v-160H620v160Z\"/>\n",
              "  </svg>\n",
              "    </button>\n",
              "\n",
              "  <style>\n",
              "    .colab-df-container {\n",
              "      display:flex;\n",
              "      gap: 12px;\n",
              "    }\n",
              "\n",
              "    .colab-df-convert {\n",
              "      background-color: #E8F0FE;\n",
              "      border: none;\n",
              "      border-radius: 50%;\n",
              "      cursor: pointer;\n",
              "      display: none;\n",
              "      fill: #1967D2;\n",
              "      height: 32px;\n",
              "      padding: 0 0 0 0;\n",
              "      width: 32px;\n",
              "    }\n",
              "\n",
              "    .colab-df-convert:hover {\n",
              "      background-color: #E2EBFA;\n",
              "      box-shadow: 0px 1px 2px rgba(60, 64, 67, 0.3), 0px 1px 3px 1px rgba(60, 64, 67, 0.15);\n",
              "      fill: #174EA6;\n",
              "    }\n",
              "\n",
              "    .colab-df-buttons div {\n",
              "      margin-bottom: 4px;\n",
              "    }\n",
              "\n",
              "    [theme=dark] .colab-df-convert {\n",
              "      background-color: #3B4455;\n",
              "      fill: #D2E3FC;\n",
              "    }\n",
              "\n",
              "    [theme=dark] .colab-df-convert:hover {\n",
              "      background-color: #434B5C;\n",
              "      box-shadow: 0px 1px 3px 1px rgba(0, 0, 0, 0.15);\n",
              "      filter: drop-shadow(0px 1px 2px rgba(0, 0, 0, 0.3));\n",
              "      fill: #FFFFFF;\n",
              "    }\n",
              "  </style>\n",
              "\n",
              "    <script>\n",
              "      const buttonEl =\n",
              "        document.querySelector('#df-6e2fe1ad-8983-40cc-bc66-112b9c08305b button.colab-df-convert');\n",
              "      buttonEl.style.display =\n",
              "        google.colab.kernel.accessAllowed ? 'block' : 'none';\n",
              "\n",
              "      async function convertToInteractive(key) {\n",
              "        const element = document.querySelector('#df-6e2fe1ad-8983-40cc-bc66-112b9c08305b');\n",
              "        const dataTable =\n",
              "          await google.colab.kernel.invokeFunction('convertToInteractive',\n",
              "                                                    [key], {});\n",
              "        if (!dataTable) return;\n",
              "\n",
              "        const docLinkHtml = 'Like what you see? Visit the ' +\n",
              "          '<a target=\"_blank\" href=https://colab.research.google.com/notebooks/data_table.ipynb>data table notebook</a>'\n",
              "          + ' to learn more about interactive tables.';\n",
              "        element.innerHTML = '';\n",
              "        dataTable['output_type'] = 'display_data';\n",
              "        await google.colab.output.renderOutput(dataTable, element);\n",
              "        const docLink = document.createElement('div');\n",
              "        docLink.innerHTML = docLinkHtml;\n",
              "        element.appendChild(docLink);\n",
              "      }\n",
              "    </script>\n",
              "  </div>\n",
              "\n",
              "\n",
              "<div id=\"df-4f764a37-a259-45da-b169-2d0cad53dacc\">\n",
              "  <button class=\"colab-df-quickchart\" onclick=\"quickchart('df-4f764a37-a259-45da-b169-2d0cad53dacc')\"\n",
              "            title=\"Suggest charts\"\n",
              "            style=\"display:none;\">\n",
              "\n",
              "<svg xmlns=\"http://www.w3.org/2000/svg\" height=\"24px\"viewBox=\"0 0 24 24\"\n",
              "     width=\"24px\">\n",
              "    <g>\n",
              "        <path d=\"M19 3H5c-1.1 0-2 .9-2 2v14c0 1.1.9 2 2 2h14c1.1 0 2-.9 2-2V5c0-1.1-.9-2-2-2zM9 17H7v-7h2v7zm4 0h-2V7h2v10zm4 0h-2v-4h2v4z\"/>\n",
              "    </g>\n",
              "</svg>\n",
              "  </button>\n",
              "\n",
              "<style>\n",
              "  .colab-df-quickchart {\n",
              "      --bg-color: #E8F0FE;\n",
              "      --fill-color: #1967D2;\n",
              "      --hover-bg-color: #E2EBFA;\n",
              "      --hover-fill-color: #174EA6;\n",
              "      --disabled-fill-color: #AAA;\n",
              "      --disabled-bg-color: #DDD;\n",
              "  }\n",
              "\n",
              "  [theme=dark] .colab-df-quickchart {\n",
              "      --bg-color: #3B4455;\n",
              "      --fill-color: #D2E3FC;\n",
              "      --hover-bg-color: #434B5C;\n",
              "      --hover-fill-color: #FFFFFF;\n",
              "      --disabled-bg-color: #3B4455;\n",
              "      --disabled-fill-color: #666;\n",
              "  }\n",
              "\n",
              "  .colab-df-quickchart {\n",
              "    background-color: var(--bg-color);\n",
              "    border: none;\n",
              "    border-radius: 50%;\n",
              "    cursor: pointer;\n",
              "    display: none;\n",
              "    fill: var(--fill-color);\n",
              "    height: 32px;\n",
              "    padding: 0;\n",
              "    width: 32px;\n",
              "  }\n",
              "\n",
              "  .colab-df-quickchart:hover {\n",
              "    background-color: var(--hover-bg-color);\n",
              "    box-shadow: 0 1px 2px rgba(60, 64, 67, 0.3), 0 1px 3px 1px rgba(60, 64, 67, 0.15);\n",
              "    fill: var(--button-hover-fill-color);\n",
              "  }\n",
              "\n",
              "  .colab-df-quickchart-complete:disabled,\n",
              "  .colab-df-quickchart-complete:disabled:hover {\n",
              "    background-color: var(--disabled-bg-color);\n",
              "    fill: var(--disabled-fill-color);\n",
              "    box-shadow: none;\n",
              "  }\n",
              "\n",
              "  .colab-df-spinner {\n",
              "    border: 2px solid var(--fill-color);\n",
              "    border-color: transparent;\n",
              "    border-bottom-color: var(--fill-color);\n",
              "    animation:\n",
              "      spin 1s steps(1) infinite;\n",
              "  }\n",
              "\n",
              "  @keyframes spin {\n",
              "    0% {\n",
              "      border-color: transparent;\n",
              "      border-bottom-color: var(--fill-color);\n",
              "      border-left-color: var(--fill-color);\n",
              "    }\n",
              "    20% {\n",
              "      border-color: transparent;\n",
              "      border-left-color: var(--fill-color);\n",
              "      border-top-color: var(--fill-color);\n",
              "    }\n",
              "    30% {\n",
              "      border-color: transparent;\n",
              "      border-left-color: var(--fill-color);\n",
              "      border-top-color: var(--fill-color);\n",
              "      border-right-color: var(--fill-color);\n",
              "    }\n",
              "    40% {\n",
              "      border-color: transparent;\n",
              "      border-right-color: var(--fill-color);\n",
              "      border-top-color: var(--fill-color);\n",
              "    }\n",
              "    60% {\n",
              "      border-color: transparent;\n",
              "      border-right-color: var(--fill-color);\n",
              "    }\n",
              "    80% {\n",
              "      border-color: transparent;\n",
              "      border-right-color: var(--fill-color);\n",
              "      border-bottom-color: var(--fill-color);\n",
              "    }\n",
              "    90% {\n",
              "      border-color: transparent;\n",
              "      border-bottom-color: var(--fill-color);\n",
              "    }\n",
              "  }\n",
              "</style>\n",
              "\n",
              "  <script>\n",
              "    async function quickchart(key) {\n",
              "      const quickchartButtonEl =\n",
              "        document.querySelector('#' + key + ' button');\n",
              "      quickchartButtonEl.disabled = true;  // To prevent multiple clicks.\n",
              "      quickchartButtonEl.classList.add('colab-df-spinner');\n",
              "      try {\n",
              "        const charts = await google.colab.kernel.invokeFunction(\n",
              "            'suggestCharts', [key], {});\n",
              "      } catch (error) {\n",
              "        console.error('Error during call to suggestCharts:', error);\n",
              "      }\n",
              "      quickchartButtonEl.classList.remove('colab-df-spinner');\n",
              "      quickchartButtonEl.classList.add('colab-df-quickchart-complete');\n",
              "    }\n",
              "    (() => {\n",
              "      let quickchartButtonEl =\n",
              "        document.querySelector('#df-4f764a37-a259-45da-b169-2d0cad53dacc button');\n",
              "      quickchartButtonEl.style.display =\n",
              "        google.colab.kernel.accessAllowed ? 'block' : 'none';\n",
              "    })();\n",
              "  </script>\n",
              "</div>\n",
              "\n",
              "    </div>\n",
              "  </div>\n"
            ],
            "application/vnd.google.colaboratory.intrinsic+json": {
              "type": "dataframe",
              "variable_name": "df",
              "summary": "{\n  \"name\": \"df\",\n  \"rows\": 2,\n  \"fields\": [\n    {\n      \"column\": \"ID Venda\",\n      \"properties\": {\n        \"dtype\": \"number\",\n        \"std\": 89,\n        \"min\": 959,\n        \"max\": 1086,\n        \"num_unique_values\": 2,\n        \"samples\": [\n          1086,\n          959\n        ],\n        \"semantic_type\": \"\",\n        \"description\": \"\"\n      }\n    },\n    {\n      \"column\": \"Nome Cliente\",\n      \"properties\": {\n        \"dtype\": \"string\",\n        \"num_unique_values\": 2,\n        \"samples\": [\n          \"Cliente Gen\\u00e9rico 37\",\n          \"Cliente Gen\\u00e9rico 62\"\n        ],\n        \"semantic_type\": \"\",\n        \"description\": \"\"\n      }\n    },\n    {\n      \"column\": \"Nome Produto\",\n      \"properties\": {\n        \"dtype\": \"string\",\n        \"num_unique_values\": 2,\n        \"samples\": [\n          \"Produto Eletr\\u00f4nico 40\",\n          \"Produto Eletr\\u00f4nico 20\"\n        ],\n        \"semantic_type\": \"\",\n        \"description\": \"\"\n      }\n    },\n    {\n      \"column\": \"Pre\\u00e7o\",\n      \"properties\": {\n        \"dtype\": \"number\",\n        \"std\": 224.74681933233225,\n        \"min\": 445.29,\n        \"max\": 763.13,\n        \"num_unique_values\": 2,\n        \"samples\": [\n          763.13,\n          445.29\n        ],\n        \"semantic_type\": \"\",\n        \"description\": \"\"\n      }\n    },\n    {\n      \"column\": \"Quantidade\",\n      \"properties\": {\n        \"dtype\": \"number\",\n        \"std\": 0,\n        \"min\": 4,\n        \"max\": 5,\n        \"num_unique_values\": 2,\n        \"samples\": [\n          5,\n          4\n        ],\n        \"semantic_type\": \"\",\n        \"description\": \"\"\n      }\n    },\n    {\n      \"column\": \"Valor Total Venda\",\n      \"properties\": {\n        \"dtype\": \"number\",\n        \"std\": 1438.601675256219,\n        \"min\": 1781.16,\n        \"max\": 3815.65,\n        \"num_unique_values\": 2,\n        \"samples\": [\n          3815.65,\n          1781.16\n        ],\n        \"semantic_type\": \"\",\n        \"description\": \"\"\n      }\n    },\n    {\n      \"column\": \"Nome Vendedor\",\n      \"properties\": {\n        \"dtype\": \"string\",\n        \"num_unique_values\": 2,\n        \"samples\": [\n          \"Vendedor 23\",\n          \"Vendedor 15\"\n        ],\n        \"semantic_type\": \"\",\n        \"description\": \"\"\n      }\n    },\n    {\n      \"column\": \"Data Venda\",\n      \"properties\": {\n        \"dtype\": \"date\",\n        \"min\": \"2024-03-09 00:00:00\",\n        \"max\": \"2024-03-09 00:00:00\",\n        \"num_unique_values\": 1,\n        \"samples\": [\n          \"2024-03-09 00:00:00\"\n        ],\n        \"semantic_type\": \"\",\n        \"description\": \"\"\n      }\n    }\n  ]\n}"
            }
          },
          "metadata": {},
          "execution_count": 13
        }
      ],
      "source": [
        "df.head(5)\n"
      ]
    },
    {
      "cell_type": "markdown",
      "metadata": {
        "id": "ApslCpGf8DlW"
      },
      "source": [
        "##3) Calcule a mediana por total de vendas por cliente via python mas selecionando por SQL"
      ]
    },
    {
      "cell_type": "code",
      "execution_count": 15,
      "metadata": {
        "colab": {
          "base_uri": "https://localhost:8080/"
        },
        "id": "ombyqRoKMyMy",
        "outputId": "e01af181-ad16-4f04-c4c8-c6c28021826c"
      },
      "outputs": [
        {
          "output_type": "stream",
          "name": "stdout",
          "text": [
            "Mediana do total de vendas por cliente: 15786.91\n"
          ]
        }
      ],
      "source": [
        "cursor.execute(\"\"\"\n",
        "    SELECT c.nome AS cliente_nome, SUM(p.preco * v.quantidade) AS valor_total_venda\n",
        "    FROM vendas v\n",
        "    JOIN clientes c ON v.cliente_id = c.cliente_id\n",
        "    JOIN produtos p ON v.produto_id = p.produto_id\n",
        "    GROUP BY c.nome\n",
        "\"\"\")\n",
        "results = cursor.fetchall()\n",
        "\n",
        "# Extraindo os valores do total de vendas para uma lista, pois o results nao é uma lista, apenas guarda o resultado do select\n",
        "valor_total_vendas = [result[1] for result in results]\n",
        "\n",
        "mediana = pd.Series(valor_total_vendas).median()\n",
        "print(f\"Mediana do total de vendas por cliente: {mediana:.2f}\")\n",
        "#fechando o cursor e a conexão\n",
        "cursor.close()\n",
        "connection.close()"
      ]
    }
  ],
  "metadata": {
    "colab": {
      "provenance": []
    },
    "kernelspec": {
      "display_name": "Python 3",
      "name": "python3"
    },
    "language_info": {
      "name": "python"
    }
  },
  "nbformat": 4,
  "nbformat_minor": 0
}